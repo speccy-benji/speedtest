{
  "nbformat": 4,
  "nbformat_minor": 0,
  "metadata": {
    "colab": {
      "name": "speedTest.ipynb",
      "provenance": [],
      "include_colab_link": true
    },
    "kernelspec": {
      "name": "python3",
      "display_name": "Python 3"
    }
  },
  "cells": [
    {
      "cell_type": "markdown",
      "metadata": {
        "id": "view-in-github",
        "colab_type": "text"
      },
      "source": [
        "<a href=\"https://colab.research.google.com/github/speccy-benji/speedtest/blob/master/speedTest.ipynb\" target=\"_parent\"><img src=\"https://colab.research.google.com/assets/colab-badge.svg\" alt=\"Open In Colab\"/></a>"
      ]
    },
    {
      "cell_type": "markdown",
      "metadata": {
        "id": "yrhGOQbuO15m",
        "colab_type": "text"
      },
      "source": [
        "This Notebook will create a broadband stats gathering program\n",
        "using pyspeedtest to gather the stats\n",
        "writing out as json to be aggregated and reported later"
      ]
    },
    {
      "cell_type": "code",
      "metadata": {
        "id": "ei0Ie1oHO0qs",
        "colab_type": "code",
        "outputId": "8b96329a-4181-4cbc-b793-fc898b87502c",
        "colab": {
          "base_uri": "https://localhost:8080/",
          "height": 140
        }
      },
      "source": [
        "#install pyspeedtest from https://github.com/sivel/speedtest-cli\n",
        "!git clone https://github.com/sivel/speedtest-cli.git"
      ],
      "execution_count": 1,
      "outputs": [
        {
          "output_type": "stream",
          "text": [
            "Cloning into 'speedtest-cli'...\n",
            "remote: Enumerating objects: 10, done.\u001b[K\n",
            "remote: Counting objects:  10% (1/10)\u001b[K\rremote: Counting objects:  20% (2/10)\u001b[K\rremote: Counting objects:  30% (3/10)\u001b[K\rremote: Counting objects:  40% (4/10)\u001b[K\rremote: Counting objects:  50% (5/10)\u001b[K\rremote: Counting objects:  60% (6/10)\u001b[K\rremote: Counting objects:  70% (7/10)\u001b[K\rremote: Counting objects:  80% (8/10)\u001b[K\rremote: Counting objects:  90% (9/10)\u001b[K\rremote: Counting objects: 100% (10/10)\u001b[K\rremote: Counting objects: 100% (10/10), done.\u001b[K\n",
            "remote: Compressing objects:  12% (1/8)\u001b[K\rremote: Compressing objects:  25% (2/8)\u001b[K\rremote: Compressing objects:  37% (3/8)\u001b[K\rremote: Compressing objects:  50% (4/8)\u001b[K\rremote: Compressing objects:  62% (5/8)\u001b[K\rremote: Compressing objects:  75% (6/8)\u001b[K\rremote: Compressing objects:  87% (7/8)\u001b[K\rremote: Compressing objects: 100% (8/8)\u001b[K\rremote: Compressing objects: 100% (8/8), done.\u001b[K\n",
            "Receiving objects:   0% (1/1160)   \rReceiving objects:   1% (12/1160)   \rReceiving objects:   2% (24/1160)   \rReceiving objects:   3% (35/1160)   \rReceiving objects:   4% (47/1160)   \rReceiving objects:   5% (58/1160)   \rReceiving objects:   6% (70/1160)   \rReceiving objects:   7% (82/1160)   \rReceiving objects:   8% (93/1160)   \rReceiving objects:   9% (105/1160)   \rReceiving objects:  10% (116/1160)   \rReceiving objects:  11% (128/1160)   \rReceiving objects:  12% (140/1160)   \rReceiving objects:  13% (151/1160)   \rReceiving objects:  14% (163/1160)   \rReceiving objects:  15% (174/1160)   \rReceiving objects:  16% (186/1160)   \rReceiving objects:  17% (198/1160)   \rReceiving objects:  18% (209/1160)   \rReceiving objects:  19% (221/1160)   \rReceiving objects:  20% (232/1160)   \rReceiving objects:  21% (244/1160)   \rReceiving objects:  22% (256/1160)   \rReceiving objects:  23% (267/1160)   \rReceiving objects:  24% (279/1160)   \rReceiving objects:  25% (290/1160)   \rReceiving objects:  26% (302/1160)   \rReceiving objects:  27% (314/1160)   \rReceiving objects:  28% (325/1160)   \rReceiving objects:  29% (337/1160)   \rReceiving objects:  30% (348/1160)   \rReceiving objects:  31% (360/1160)   \rReceiving objects:  32% (372/1160)   \rReceiving objects:  33% (383/1160)   \rReceiving objects:  34% (395/1160)   \rReceiving objects:  35% (406/1160)   \rReceiving objects:  36% (418/1160)   \rReceiving objects:  37% (430/1160)   \rReceiving objects:  38% (441/1160)   \rReceiving objects:  39% (453/1160)   \rReceiving objects:  40% (464/1160)   \rReceiving objects:  41% (476/1160)   \rReceiving objects:  42% (488/1160)   \rReceiving objects:  43% (499/1160)   \rReceiving objects:  44% (511/1160)   \rReceiving objects:  45% (522/1160)   \rReceiving objects:  46% (534/1160)   \rReceiving objects:  47% (546/1160)   \rReceiving objects:  48% (557/1160)   \rReceiving objects:  49% (569/1160)   \rReceiving objects:  50% (580/1160)   \rReceiving objects:  51% (592/1160)   \rReceiving objects:  52% (604/1160)   \rReceiving objects:  53% (615/1160)   \rReceiving objects:  54% (627/1160)   \rReceiving objects:  55% (638/1160)   \rReceiving objects:  56% (650/1160)   \rReceiving objects:  57% (662/1160)   \rReceiving objects:  58% (673/1160)   \rReceiving objects:  59% (685/1160)   \rReceiving objects:  60% (696/1160)   \rReceiving objects:  61% (708/1160)   \rReceiving objects:  62% (720/1160)   \rReceiving objects:  63% (731/1160)   \rReceiving objects:  64% (743/1160)   \rReceiving objects:  65% (754/1160)   \rReceiving objects:  66% (766/1160)   \rReceiving objects:  67% (778/1160)   \rReceiving objects:  68% (789/1160)   \rReceiving objects:  69% (801/1160)   \rReceiving objects:  70% (812/1160)   \rReceiving objects:  71% (824/1160)   \rReceiving objects:  72% (836/1160)   \rReceiving objects:  73% (847/1160)   \rremote: Total 1160 (delta 4), reused 8 (delta 2), pack-reused 1150\u001b[K\n",
            "Receiving objects:  74% (859/1160)   \rReceiving objects:  75% (870/1160)   \rReceiving objects:  76% (882/1160)   \rReceiving objects:  77% (894/1160)   \rReceiving objects:  78% (905/1160)   \rReceiving objects:  79% (917/1160)   \rReceiving objects:  80% (928/1160)   \rReceiving objects:  81% (940/1160)   \rReceiving objects:  82% (952/1160)   \rReceiving objects:  83% (963/1160)   \rReceiving objects:  84% (975/1160)   \rReceiving objects:  85% (986/1160)   \rReceiving objects:  86% (998/1160)   \rReceiving objects:  87% (1010/1160)   \rReceiving objects:  88% (1021/1160)   \rReceiving objects:  89% (1033/1160)   \rReceiving objects:  90% (1044/1160)   \rReceiving objects:  91% (1056/1160)   \rReceiving objects:  92% (1068/1160)   \rReceiving objects:  93% (1079/1160)   \rReceiving objects:  94% (1091/1160)   \rReceiving objects:  95% (1102/1160)   \rReceiving objects:  96% (1114/1160)   \rReceiving objects:  97% (1126/1160)   \rReceiving objects:  98% (1137/1160)   \rReceiving objects:  99% (1149/1160)   \rReceiving objects: 100% (1160/1160)   \rReceiving objects: 100% (1160/1160), 329.59 KiB | 6.22 MiB/s, done.\n",
            "Resolving deltas:   0% (0/688)   \rResolving deltas:   1% (10/688)   \rResolving deltas:   4% (31/688)   \rResolving deltas:   5% (38/688)   \rResolving deltas:   6% (44/688)   \rResolving deltas:   7% (51/688)   \rResolving deltas:   8% (56/688)   \rResolving deltas:  17% (123/688)   \rResolving deltas:  36% (252/688)   \rResolving deltas:  37% (257/688)   \rResolving deltas:  50% (346/688)   \rResolving deltas:  54% (374/688)   \rResolving deltas:  56% (388/688)   \rResolving deltas:  57% (394/688)   \rResolving deltas:  65% (453/688)   \rResolving deltas:  67% (461/688)   \rResolving deltas:  73% (506/688)   \rResolving deltas:  74% (513/688)   \rResolving deltas:  75% (519/688)   \rResolving deltas:  76% (525/688)   \rResolving deltas:  78% (541/688)   \rResolving deltas:  80% (551/688)   \rResolving deltas:  81% (562/688)   \rResolving deltas:  82% (570/688)   \rResolving deltas:  83% (572/688)   \rResolving deltas:  84% (580/688)   \rResolving deltas:  86% (594/688)   \rResolving deltas:  87% (604/688)   \rResolving deltas:  88% (606/688)   \rResolving deltas:  89% (616/688)   \rResolving deltas:  90% (621/688)   \rResolving deltas:  93% (641/688)   \rResolving deltas:  96% (663/688)   \rResolving deltas:  97% (668/688)   \rResolving deltas:  98% (675/688)   \rResolving deltas:  99% (684/688)   \rResolving deltas: 100% (688/688)   \rResolving deltas: 100% (688/688), done.\n"
          ],
          "name": "stdout"
        }
      ]
    },
    {
      "cell_type": "code",
      "metadata": {
        "id": "VeEqzEstUJOt",
        "colab_type": "code",
        "colab": {}
      },
      "source": [
        "!cp speedtest-cli/speedtest.py ./"
      ],
      "execution_count": 0,
      "outputs": []
    },
    {
      "cell_type": "code",
      "metadata": {
        "id": "ixojVPi5PUCR",
        "colab_type": "code",
        "colab": {}
      },
      "source": [
        "# call the python API as per the wiki instructions at https://github.com/sivel/speedtest-cli/wiki\n",
        "import speedtest\n",
        "\n",
        "servers = []\n",
        "# If you want to test against a specific server\n",
        "# servers = [1234]\n",
        "\n",
        "threads = None\n",
        "# If you want to use a single threaded test\n",
        "# threads = 1\n",
        "\n",
        "s = speedtest.Speedtest()\n",
        "s.get_servers(servers)\n",
        "s.get_best_server()\n",
        "s.download(threads=threads)\n",
        "s.upload(threads=threads)\n",
        "#s.results.share()\n",
        "\n",
        "results_dict = s.results.dict()\n"
      ],
      "execution_count": 0,
      "outputs": []
    },
    {
      "cell_type": "code",
      "metadata": {
        "id": "0M1jGjKmTpDe",
        "colab_type": "code",
        "outputId": "d2b18f4f-09c9-4b13-b311-f14982eabd28",
        "colab": {
          "base_uri": "https://localhost:8080/",
          "height": 615
        }
      },
      "source": [
        "import json\n",
        "print(json.dumps(results_dict, indent=4))"
      ],
      "execution_count": 22,
      "outputs": [
        {
          "output_type": "stream",
          "text": [
            "{\n",
            "    \"download\": 839224816.5055904,\n",
            "    \"upload\": 327065389.65141463,\n",
            "    \"ping\": 28.384,\n",
            "    \"server\": {\n",
            "        \"url\": \"http://speedtest.washington-dc.xiber.net:8080/speedtest/upload.php\",\n",
            "        \"lat\": \"38.8904\",\n",
            "        \"lon\": \"-77.0320\",\n",
            "        \"name\": \"Washington, DC\",\n",
            "        \"country\": \"United States\",\n",
            "        \"cc\": \"US\",\n",
            "        \"sponsor\": \"Xiber LLC\",\n",
            "        \"id\": \"20229\",\n",
            "        \"host\": \"speedtest.washington-dc.xiber.net:8080\",\n",
            "        \"d\": 31.890714533112387,\n",
            "        \"latency\": 28.384\n",
            "    },\n",
            "    \"timestamp\": \"2019-10-29T13:29:27.123405Z\",\n",
            "    \"bytes_sent\": 151519232,\n",
            "    \"bytes_received\": 409373932,\n",
            "    \"share\": null,\n",
            "    \"client\": {\n",
            "        \"ip\": \"34.67.171.22\",\n",
            "        \"lat\": \"38.6583\",\n",
            "        \"lon\": \"-77.2481\",\n",
            "        \"isp\": \"Google Cloud\",\n",
            "        \"isprating\": \"3.7\",\n",
            "        \"rating\": \"0\",\n",
            "        \"ispdlavg\": \"0\",\n",
            "        \"ispulavg\": \"0\",\n",
            "        \"loggedin\": \"0\",\n",
            "        \"country\": \"US\"\n",
            "    }\n",
            "}\n"
          ],
          "name": "stdout"
        }
      ]
    },
    {
      "cell_type": "code",
      "metadata": {
        "id": "-tbBjjcLoYZD",
        "colab_type": "code",
        "colab": {}
      },
      "source": [
        "#Only includ the stat's I want plus the timestamp\n",
        "output = {k : v for k,v in results_dict.items() if k in [\"download\", \"upload\", \"ping\", \"timestamp\"]}\n",
        "import os.path\n",
        "if os.path.isfile(\"speedtest.json\"):\n",
        "  mode = \"a\"\n",
        "else:\n",
        "  mode = \"w\"\n",
        "with open(\"speedtest.json\", mode) as outfile:\n",
        "    print(json.dumps(output), file=outfile)"
      ],
      "execution_count": 0,
      "outputs": []
    },
    {
      "cell_type": "code",
      "metadata": {
        "id": "tna0Ka38pDj1",
        "colab_type": "code",
        "colab": {
          "base_uri": "https://localhost:8080/",
          "height": 70
        },
        "outputId": "6cb827e8-cc3e-44f4-f564-053a7000d610"
      },
      "source": [
        "!head speedtest.json"
      ],
      "execution_count": 24,
      "outputs": [
        {
          "output_type": "stream",
          "text": [
            "{\"download\": 640577791.2679225, \"upload\": 356376715.5614448, \"ping\": 35.434, \"timestamp\": \"2019-10-29T13:12:11.334270Z\"}\n",
            "{\"download\": 568879835.6164172, \"upload\": 275730297.7817761, \"ping\": 30.685, \"timestamp\": \"2019-10-29T13:19:44.704285Z\"}\n",
            "{\"download\": 839224816.5055904, \"upload\": 327065389.65141463, \"ping\": 28.384, \"timestamp\": \"2019-10-29T13:29:27.123405Z\"}\n"
          ],
          "name": "stdout"
        }
      ]
    }
  ]
}